{
  "cells": [
    {
      "cell_type": "markdown",
      "metadata": {
        "id": "view-in-github",
        "colab_type": "text"
      },
      "source": [
        "<a href=\"https://colab.research.google.com/github/lubnakhan-Github-Account/assignment-6/blob/main/_06_OOP_Practice_Series.ipynb\" target=\"_parent\"><img src=\"https://colab.research.google.com/assets/colab-badge.svg\" alt=\"Open In Colab\"/></a>"
      ]
    },
    {
      "cell_type": "markdown",
      "metadata": {
        "id": "LNVKvt6C9vp-"
      },
      "source": [
        "# *1.Using Self*"
      ]
    },
    {
      "cell_type": "code",
      "execution_count": null,
      "metadata": {
        "colab": {
          "base_uri": "https://localhost:8080/"
        },
        "id": "bteb0dBX8KuE",
        "outputId": "92215664-ee71-40bb-ca16-c213686a4227"
      },
      "outputs": [
        {
          "name": "stdout",
          "output_type": "stream",
          "text": [
            "ali 65\n"
          ]
        }
      ],
      "source": [
        "class Student:\n",
        "  def __init__(self,name,marks):\n",
        "    self.name = name\n",
        "    self.marks = marks\n",
        "  def display(self):\n",
        "\n",
        "     print(f'{self.name} {self.marks}')\n",
        "\n",
        "stud1 = Student('ali',65)\n",
        "stud1.display()"
      ]
    },
    {
      "cell_type": "markdown",
      "metadata": {
        "id": "2FrKKwtwIMmJ"
      },
      "source": [
        "# ***2.. Using cls***"
      ]
    },
    {
      "cell_type": "code",
      "execution_count": null,
      "metadata": {
        "colab": {
          "base_uri": "https://localhost:8080/"
        },
        "id": "3L8qkHEMIdHO",
        "outputId": "e9f5ada3-854a-4e67-84bf-b07d6fd204d3"
      },
      "outputs": [
        {
          "name": "stdout",
          "output_type": "stream",
          "text": [
            "3\n"
          ]
        }
      ],
      "source": [
        "class Counter:\n",
        "   count =0\n",
        "\n",
        "   def __init__(self):\n",
        "       Counter.count += 1\n",
        "\n",
        "\n",
        "   @classmethod\n",
        "   def disply_count(cls):\n",
        "     print(f'{cls.count}')\n",
        "\n",
        "a= Counter()\n",
        "b= Counter()\n",
        "c= Counter()\n",
        "\n",
        "Counter.disply_count()"
      ]
    },
    {
      "cell_type": "markdown",
      "metadata": {
        "id": "KYjMMeK5UiJ2"
      },
      "source": [
        "# ***3. Public Varibles and Methods***"
      ]
    },
    {
      "cell_type": "code",
      "execution_count": null,
      "metadata": {
        "colab": {
          "base_uri": "https://localhost:8080/"
        },
        "id": "2LRrg8WBU16-",
        "outputId": "8f7b6299-8a89-49e6-8b1a-05a043cafb7e"
      },
      "outputs": [
        {
          "name": "stdout",
          "output_type": "stream",
          "text": [
            "Carola\n",
            "This is Toyota car and its brand is Carola.\n"
          ]
        }
      ],
      "source": [
        "class Car:\n",
        "  def __init__(self,brand):\n",
        "    self.brand = brand\n",
        "\n",
        "  def start(self):\n",
        "    print(f\"This is Toyota car and its brand is {self.brand}.\")\n",
        "c1 = Car(\"Carola\")\n",
        "print(c1.brand)\n",
        "c1.start()"
      ]
    },
    {
      "cell_type": "markdown",
      "metadata": {
        "id": "BWiD0yJ_WqgV"
      },
      "source": [
        "# *4.Class Varibles and Class Methods*"
      ]
    },
    {
      "cell_type": "code",
      "execution_count": null,
      "metadata": {
        "colab": {
          "base_uri": "https://localhost:8080/"
        },
        "id": "Ryhd3ZncW1Mr",
        "outputId": "cb678cf7-83de-460b-8e33-07006c70349b"
      },
      "outputs": [
        {
          "name": "stdout",
          "output_type": "stream",
          "text": [
            "change bank name to :Aleid Bank\n"
          ]
        }
      ],
      "source": [
        "class Bank:\n",
        "  bank_name = \" bank\"\n",
        "\n",
        "  @classmethod\n",
        "  def change_bank_name(cls,name):\n",
        "    cls.bank_name =name\n",
        "    print(f\"change bank name to :{cls.bank_name}\")\n",
        "Bank.change_bank_name(\"Aleid Bank\")\n"
      ]
    },
    {
      "cell_type": "markdown",
      "metadata": {
        "id": "R4mIi0cTZ1xx"
      },
      "source": [
        "# *5.Static Varibles and Static Methods*"
      ]
    },
    {
      "cell_type": "code",
      "execution_count": null,
      "metadata": {
        "colab": {
          "base_uri": "https://localhost:8080/"
        },
        "id": "HfjoY-7yaCPs",
        "outputId": "98cd6963-0ca1-4b3c-8365-f2127236c6ee"
      },
      "outputs": [
        {
          "data": {
            "text/plain": [
              "9"
            ]
          },
          "execution_count": 8,
          "metadata": {},
          "output_type": "execute_result"
        }
      ],
      "source": [
        "class MathUtils:\n",
        "\n",
        "  @staticmethod\n",
        "  def add(a,b):\n",
        "    return a + b\n",
        "MathUtils.add(4,5)"
      ]
    },
    {
      "cell_type": "markdown",
      "metadata": {
        "id": "HhjtNIlubM7b"
      },
      "source": [
        "# *6.Constructor and Destructor*"
      ]
    },
    {
      "cell_type": "code",
      "execution_count": null,
      "metadata": {
        "colab": {
          "base_uri": "https://localhost:8080/"
        },
        "id": "HQQ-hMc_bgRg",
        "outputId": "01d0fe6f-0739-46ca-b156-94748b1faca7"
      },
      "outputs": [
        {
          "name": "stdout",
          "output_type": "stream",
          "text": [
            "object is created.\n",
            "object is destroyed.\n"
          ]
        }
      ],
      "source": [
        "class Logger:\n",
        "  def __init__(self):\n",
        "    print(\"object is created.\")\n",
        "\n",
        "  def __del__(self):\n",
        "    print(\"object is destroyed.\")\n",
        "\n",
        "log = Logger()\n",
        "log.__del__()"
      ]
    },
    {
      "cell_type": "markdown",
      "metadata": {
        "id": "PLReIT0IdFPT"
      },
      "source": [
        "# *7. Access Modifires Public, Protected,Pravite.*"
      ]
    },
    {
      "cell_type": "code",
      "execution_count": null,
      "metadata": {
        "colab": {
          "base_uri": "https://localhost:8080/",
          "height": 211
        },
        "id": "84bNcOl0dTYY",
        "outputId": "8a8638b7-1e4c-440d-f3cb-9f4fb1986032"
      },
      "outputs": [
        {
          "name": "stdout",
          "output_type": "stream",
          "text": [
            "Ali\n",
            "398765\n"
          ]
        },
        {
          "ename": "AttributeError",
          "evalue": "'Employee' object has no attribute '__ssn'",
          "output_type": "error",
          "traceback": [
            "\u001b[0;31m---------------------------------------------------------------------------\u001b[0m",
            "\u001b[0;31mAttributeError\u001b[0m                            Traceback (most recent call last)",
            "\u001b[0;32m<ipython-input-11-0cfd310caffa>\u001b[0m in \u001b[0;36m<cell line: 0>\u001b[0;34m()\u001b[0m\n\u001b[1;32m      8\u001b[0m \u001b[0mprint\u001b[0m\u001b[0;34m(\u001b[0m\u001b[0memp\u001b[0m\u001b[0;34m.\u001b[0m\u001b[0mname\u001b[0m\u001b[0;34m)\u001b[0m\u001b[0;34m\u001b[0m\u001b[0;34m\u001b[0m\u001b[0m\n\u001b[1;32m      9\u001b[0m \u001b[0mprint\u001b[0m\u001b[0;34m(\u001b[0m\u001b[0memp\u001b[0m\u001b[0;34m.\u001b[0m\u001b[0m_salary\u001b[0m\u001b[0;34m)\u001b[0m\u001b[0;34m\u001b[0m\u001b[0;34m\u001b[0m\u001b[0m\n\u001b[0;32m---> 10\u001b[0;31m \u001b[0mprint\u001b[0m\u001b[0;34m(\u001b[0m\u001b[0memp\u001b[0m\u001b[0;34m.\u001b[0m\u001b[0m__ssn\u001b[0m\u001b[0;34m)\u001b[0m\u001b[0;34m\u001b[0m\u001b[0;34m\u001b[0m\u001b[0m\n\u001b[0m",
            "\u001b[0;31mAttributeError\u001b[0m: 'Employee' object has no attribute '__ssn'"
          ]
        }
      ],
      "source": [
        "class Employee:\n",
        "  def __init__(self,name,salary,ssn):\n",
        "    self.name = name\n",
        "    self._salary = salary\n",
        "    self.__ssn = ssn\n",
        "\n",
        "emp = Employee(\"Ali\",398765, \"123-345670\")\n",
        "print(emp.name)\n",
        "print(emp._salary)\n",
        "print(emp.__ssn)\n"
      ]
    },
    {
      "cell_type": "markdown",
      "metadata": {
        "id": "PLclJtpPrCmh"
      },
      "source": [
        "# *8. Super() Function*"
      ]
    },
    {
      "cell_type": "code",
      "execution_count": null,
      "metadata": {
        "colab": {
          "base_uri": "https://localhost:8080/"
        },
        "id": "mtFkKus2rKrg",
        "outputId": "a818be97-4acc-4eec-bbfc-35f7f1829e3f"
      },
      "outputs": [
        {
          "name": "stdout",
          "output_type": "stream",
          "text": [
            "Ali\n",
            "Math\n"
          ]
        }
      ],
      "source": [
        "class Person :\n",
        "  def __init__(self,name):\n",
        "    self.name =name\n",
        "\n",
        "class Teacher(Person):\n",
        "  def __init__(self,name,subject):\n",
        "    super().__init__(name)\n",
        "    self.subject = subject\n",
        "\n",
        "t = Teacher(\"Ali\", \"Math\")\n",
        "print(t.name)\n",
        "print(t.subject)\n"
      ]
    },
    {
      "cell_type": "markdown",
      "metadata": {
        "id": "p4s00HbjtT7d"
      },
      "source": [
        "# *9. Abstract classes and Methods*"
      ]
    },
    {
      "cell_type": "code",
      "execution_count": null,
      "metadata": {
        "colab": {
          "base_uri": "https://localhost:8080/"
        },
        "id": "joI0_FsDtc7e",
        "outputId": "7bbc477e-e2ad-4773-9128-6216387f602b"
      },
      "outputs": [
        {
          "name": "stdout",
          "output_type": "stream",
          "text": [
            "15\n"
          ]
        }
      ],
      "source": [
        "from abc import ABC, abstractmethod\n",
        "\n",
        "class Shape(ABC):\n",
        "   @abstractmethod\n",
        "   def area(self):\n",
        "    pass\n",
        "\n",
        "class Rectangle(Shape):\n",
        "     def __init__(self, width,height):\n",
        "      self.width = width\n",
        "      self.height = height\n",
        "\n",
        "     def area(self):\n",
        "        return self.width * self.height\n",
        "\n",
        "rect = Rectangle(3,5)\n",
        "print(rect.area())"
      ]
    },
    {
      "cell_type": "markdown",
      "metadata": {
        "id": "RtjOmcCgxXX7"
      },
      "source": [
        "# *10. Instance Method*"
      ]
    },
    {
      "cell_type": "code",
      "execution_count": null,
      "metadata": {
        "colab": {
          "base_uri": "https://localhost:8080/"
        },
        "id": "10lOLZozxhxu",
        "outputId": "db6d2a86-d4a0-4af3-fb1d-b8c03c6feb4b"
      },
      "outputs": [
        {
          "name": "stdout",
          "output_type": "stream",
          "text": [
            "Tommy\n",
            "German shafferd\n",
            "Tommy is a German shafferd that bark at stranger\n"
          ]
        }
      ],
      "source": [
        "class Dog:\n",
        "  def __init__(self,name,breed):\n",
        "    self.name = name\n",
        "    self.breed = breed\n",
        "\n",
        "  def bark(self):\n",
        "    print(f\"{self.name} is a {self.breed} that bark at stranger\")\n",
        "\n",
        "dog = Dog(\"Tommy\",\"German shafferd\")\n",
        "print(dog.name)\n",
        "print(dog.breed)\n",
        "dog.bark()"
      ]
    },
    {
      "cell_type": "markdown",
      "metadata": {
        "id": "ZY7-jYV0z6yr"
      },
      "source": [
        "# 11. Class Method\n"
      ]
    },
    {
      "cell_type": "code",
      "execution_count": null,
      "metadata": {
        "colab": {
          "base_uri": "https://localhost:8080/"
        },
        "id": "HmBAUDt60G0f",
        "outputId": "d69c8dc3-2451-4106-fb6b-7ee3df5d192b"
      },
      "outputs": [
        {
          "name": "stdout",
          "output_type": "stream",
          "text": [
            "Total Books 1\n",
            "Total Books 2\n"
          ]
        }
      ],
      "source": [
        "class Book:\n",
        "  total_books = 0\n",
        "\n",
        "  @classmethod\n",
        "  def increment_book_count(cls):\n",
        "    cls.total_books += 1\n",
        "    print(f\"Total Books {cls.total_books}\")\n",
        "\n",
        "Book.increment_book_count()\n",
        "Book.increment_book_count()\n"
      ]
    },
    {
      "cell_type": "markdown",
      "metadata": {
        "id": "_TmicgAQ3izW"
      },
      "source": [
        "# *12. Static Method*"
      ]
    },
    {
      "cell_type": "code",
      "execution_count": null,
      "metadata": {
        "colab": {
          "base_uri": "https://localhost:8080/"
        },
        "id": "1UnQWQUs3wZv",
        "outputId": "eb2d3586-a8be-47a2-c1a2-d52efed56afd"
      },
      "outputs": [
        {
          "data": {
            "text/plain": [
              "41.0"
            ]
          },
          "execution_count": 22,
          "metadata": {},
          "output_type": "execute_result"
        }
      ],
      "source": [
        "class TemptureConvertor():\n",
        "\n",
        "  @staticmethod\n",
        "  def celsius_to_fahrenheit(c):\n",
        "    return (c *9/5) + 32\n",
        "\n",
        "TemptureConvertor.celsius_to_fahrenheit(5)\n"
      ]
    },
    {
      "cell_type": "markdown",
      "metadata": {
        "id": "ATx-D64k5Uq2"
      },
      "source": [
        "# 13. Composition"
      ]
    },
    {
      "cell_type": "code",
      "execution_count": null,
      "metadata": {
        "colab": {
          "base_uri": "https://localhost:8080/"
        },
        "id": "-yN3SqI45cBu",
        "outputId": "add95c92-d67b-4dc1-c0dc-17490ce5c36e"
      },
      "outputs": [
        {
          "name": "stdout",
          "output_type": "stream",
          "text": [
            "Car is start.\n"
          ]
        }
      ],
      "source": [
        "class Engine:\n",
        "    def start(self):\n",
        "      print(\"Car is start.\")\n",
        "\n",
        "\n",
        "class Car:\n",
        "   def __init__(self, engine):\n",
        "    self.engine = engine\n",
        "\n",
        "   def start(self):\n",
        "    self.engine.start()\n",
        "\n",
        "car = Car(Engine())\n",
        "car.start()\n",
        "\n",
        "\n",
        "\n",
        "\n",
        "\n",
        "\n"
      ]
    },
    {
      "cell_type": "markdown",
      "metadata": {
        "id": "1EySshlXHSNl"
      },
      "source": [
        "# *14. Agrregation*"
      ]
    },
    {
      "cell_type": "code",
      "execution_count": null,
      "metadata": {
        "colab": {
          "base_uri": "https://localhost:8080/"
        },
        "id": "pKhiTHloJwMP",
        "outputId": "20cfb934-befd-478f-cf76-3434602e3296"
      },
      "outputs": [
        {
          "name": "stdout",
          "output_type": "stream",
          "text": [
            "Alex\n"
          ]
        }
      ],
      "source": [
        "from os import name\n",
        "class Empolyee:\n",
        "  def __init__(self,name):\n",
        "    self.name = name\n",
        "\n",
        "class Department:\n",
        "  def __init__(self,empolyee):\n",
        "    self.name =name\n",
        "    self.empolyee =empolyee\n",
        "\n",
        "empolyee = Empolyee(\"Alex\")\n",
        "depart = Department(empolyee)\n",
        "print(depart.empolyee.name)\n",
        "\n"
      ]
    },
    {
      "cell_type": "markdown",
      "metadata": {
        "id": "LLw8Qv0DLi0c"
      },
      "source": [
        "# *15. Method Resolation Order (MRO) Diamond Inheritance*"
      ]
    },
    {
      "cell_type": "code",
      "execution_count": null,
      "metadata": {
        "colab": {
          "base_uri": "https://localhost:8080/"
        },
        "id": "xlsxR29yL3Ib",
        "outputId": "4be60447-f9e2-448a-bdfb-46aa12e1bedb"
      },
      "outputs": [
        {
          "name": "stdout",
          "output_type": "stream",
          "text": [
            "show method of class B.\n"
          ]
        }
      ],
      "source": [
        "class A:\n",
        "  def show(self):\n",
        "    print(\"show method of class A.\")\n",
        "\n",
        "class B(A):\n",
        "  def show(self):\n",
        "    print(\"show method of class B.\")\n",
        "\n",
        "class C (A):\n",
        "  def show(self):\n",
        "    print(\"show method of class C.\")\n",
        "\n",
        "class D (B,C):\n",
        "\n",
        "    pass\n",
        "d = D()\n",
        "d.show()"
      ]
    },
    {
      "cell_type": "markdown",
      "metadata": {
        "id": "8TPqhkF9PErt"
      },
      "source": [
        "# *16. Function Decorators*"
      ]
    },
    {
      "cell_type": "code",
      "execution_count": null,
      "metadata": {
        "colab": {
          "base_uri": "https://localhost:8080/"
        },
        "id": "Sjh9y2WrPRuE",
        "outputId": "2e9e7172-2f06-47c6-ac7f-658bb5ce1153"
      },
      "outputs": [
        {
          "name": "stdout",
          "output_type": "stream",
          "text": [
            "function is being called\n",
            "hello\n"
          ]
        }
      ],
      "source": [
        "def log_function_call(func):\n",
        "    def wrapper():\n",
        "      print(\"function is being called\")\n",
        "      func()\n",
        "    return wrapper\n",
        "\n",
        "@log_function_call\n",
        "def say_hello():\n",
        "      print(\"hello\")\n",
        "say_hello()"
      ]
    },
    {
      "cell_type": "markdown",
      "metadata": {
        "id": "n9vd9onaRyLy"
      },
      "source": [
        "# *17. Class Decorator*"
      ]
    },
    {
      "cell_type": "code",
      "execution_count": null,
      "metadata": {
        "colab": {
          "base_uri": "https://localhost:8080/"
        },
        "id": "83doePYwR8pd",
        "outputId": "c7eba6ca-a2fa-4651-abbc-02b7d7a0290b"
      },
      "outputs": [
        {
          "name": "stdout",
          "output_type": "stream",
          "text": [
            "Hello from Decorator!\n"
          ]
        }
      ],
      "source": [
        "def add_greeting(cls):\n",
        "\n",
        "  def greet(self):\n",
        "    return \"Hello from Decorator!\"\n",
        "  cls.greet = greet\n",
        "  return cls\n",
        "\n",
        "@add_greeting\n",
        "class Person:\n",
        "  pass\n",
        "\n",
        "p = Person()\n",
        "print(p.greet())"
      ]
    },
    {
      "cell_type": "markdown",
      "metadata": {
        "id": "Hzj5hJBRT3r4"
      },
      "source": [
        "# *18. Property Decorators*"
      ]
    },
    {
      "cell_type": "code",
      "execution_count": null,
      "metadata": {
        "colab": {
          "base_uri": "https://localhost:8080/"
        },
        "id": "NbmCKiPkUBaP",
        "outputId": "8292a732-22df-413b-f6ce-ce62de8223f1"
      },
      "outputs": [
        {
          "output_type": "stream",
          "name": "stdout",
          "text": [
            "10\n",
            "20\n"
          ]
        }
      ],
      "source": [
        "class Product:\n",
        "   def __init__(self, price):\n",
        "    self.__price = price\n",
        "   @property\n",
        "   def price(self):\n",
        "     return self.__price\n",
        "\n",
        "   @price.setter\n",
        "   def price(self,value):\n",
        "     self.__price = value\n",
        "\n",
        "   @price.deleter\n",
        "   def price(self):\n",
        "    del self.__price\n",
        "\n",
        "p1 =  Product(10)\n",
        "print(p1.price)\n",
        "p1.price =20\n",
        "print(p1.price)\n",
        "del p1.price"
      ]
    },
    {
      "cell_type": "markdown",
      "source": [
        "# *19. Callable() and Call()*"
      ],
      "metadata": {
        "id": "3UE0EPLBKDA7"
      }
    },
    {
      "cell_type": "code",
      "source": [
        "class Multiplier:\n",
        "  def __init__(self, factor):\n",
        "    self.factor = factor\n",
        "\n",
        "  def __call__(self, number):\n",
        "    return self.factor * number\n",
        "\n",
        "obj = Multiplier(3)\n",
        "obj(2)\n"
      ],
      "metadata": {
        "colab": {
          "base_uri": "https://localhost:8080/"
        },
        "id": "uSjBBroXKNC_",
        "outputId": "aa38d1bb-cfe8-419c-f13b-5c95a8001416"
      },
      "execution_count": null,
      "outputs": [
        {
          "output_type": "execute_result",
          "data": {
            "text/plain": [
              "6"
            ]
          },
          "metadata": {},
          "execution_count": 7
        }
      ]
    },
    {
      "cell_type": "markdown",
      "source": [
        "# *20. Creating a Custom Exception*"
      ],
      "metadata": {
        "id": "smGlxt4kTWqr"
      }
    },
    {
      "cell_type": "code",
      "source": [
        "class InvalidAgeError(Exception):\n",
        "    pass\n",
        "\n",
        "def check_age(age):\n",
        "   if age < 18:\n",
        "      raise InvalidAgeError(\"Age is less then 18.\")\n",
        "   else:\n",
        "      print(\"Age is valid\")\n",
        "\n",
        "check_age(22)\n",
        "\n",
        "\n"
      ],
      "metadata": {
        "colab": {
          "base_uri": "https://localhost:8080/"
        },
        "id": "yFqG6W7fTpmz",
        "outputId": "46772bfa-e0c9-430c-c1f3-f558bbeb0a48"
      },
      "execution_count": null,
      "outputs": [
        {
          "output_type": "stream",
          "name": "stdout",
          "text": [
            "Age is valid\n"
          ]
        }
      ]
    },
    {
      "cell_type": "markdown",
      "source": [
        "# *21. Make a Custom Class Itreable*"
      ],
      "metadata": {
        "id": "T7WrkREWWsQe"
      }
    },
    {
      "cell_type": "code",
      "source": [
        "class Countdown:\n",
        "  def __init__(self, start):\n",
        "    self.start = start\n",
        "\n",
        "  def __iter__(self):\n",
        "     return self\n",
        "\n",
        "  def __next__(self):\n",
        "    if self.start <= 0:\n",
        "      raise StopIteration\n",
        "\n",
        "    self.start -= 1\n",
        "    return self.start\n",
        "for number in Countdown(3):\n",
        " print(number)\n"
      ],
      "metadata": {
        "colab": {
          "base_uri": "https://localhost:8080/"
        },
        "id": "8RLJzUegXIQI",
        "outputId": "247b032a-1986-4f64-ecb2-0255bc3d41df"
      },
      "execution_count": null,
      "outputs": [
        {
          "output_type": "stream",
          "name": "stdout",
          "text": [
            "2\n",
            "1\n",
            "0\n"
          ]
        }
      ]
    },
    {
      "cell_type": "markdown",
      "source": [
        "# *completed annsignment 6.*"
      ],
      "metadata": {
        "id": "jo6IIVGCZj5p"
      }
    }
  ],
  "metadata": {
    "colab": {
      "provenance": [],
      "authorship_tag": "ABX9TyN2T0Hipe1GkKA4j1tCYAmS",
      "include_colab_link": true
    },
    "kernelspec": {
      "display_name": "Python 3",
      "name": "python3"
    },
    "language_info": {
      "name": "python"
    }
  },
  "nbformat": 4,
  "nbformat_minor": 0
}